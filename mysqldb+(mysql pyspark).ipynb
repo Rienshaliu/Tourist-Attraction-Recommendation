{
 "cells": [
  {
   "cell_type": "code",
   "execution_count": 2,
   "metadata": {},
   "outputs": [
    {
     "name": "stdout",
     "output_type": "stream",
     "text": [
      "Database version : 10.1.30-MariaDB \n"
     ]
    }
   ],
   "source": [
    "import MySQLdb\n",
    "\n",
    "# Open database connection\n",
    "db = MySQLdb.connect(\"localhost\",\"testuser\",\"test123\",\"testdb\" )\n",
    "\n",
    "# prepare a cursor object using cursor() method\n",
    "cursor = db.cursor()\n",
    "# execute SQL query using execute() method.\n",
    "cursor.execute(\"SELECT VERSION()\")\n",
    "\n",
    "# Fetch a single row using fetchone() method.\n",
    "data = cursor.fetchone()\n",
    "print \"Database version : %s \" % data\n",
    "\n",
    "# disconnect from server\n",
    "db.close()"
   ]
  },
  {
   "cell_type": "code",
   "execution_count": 3,
   "metadata": {},
   "outputs": [
    {
     "name": "stdout",
     "output_type": "stream",
     "text": [
      "+---+--------------------+--------------------+--------------------+\n",
      "| ID|            POST_URL|            LOCATION|             CONTENT|\n",
      "+---+--------------------+--------------------+--------------------+\n",
      "|  0|https://www.insta...|https://www.insta...|[E5 B8 83 E4 B8 8...|\n",
      "|  1|https://www.insta...|https://www.insta...|[E5 8D A1 E5 A3 A...|\n",
      "|  2|https://www.insta...|https://www.insta...|[E9 AD 9A E7 87 9...|\n",
      "|  3|https://www.insta...|https://www.insta...|[E8 B2 A9 E8 B3 A...|\n",
      "+---+--------------------+--------------------+--------------------+\n",
      "\n"
     ]
    }
   ],
   "source": [
    "dataframe_mysql = sqlContext.read.format(\"jdbc\").options( url=\"jdbc:mysql://localhost:3306/testdb\",driver = \"com.mysql.jdbc.Driver\",dbtable = \"post\",user=\"testuser\", password=\"test123\").load()\n",
    "dataframe_mysql.show()"
   ]
  },
  {
   "cell_type": "code",
   "execution_count": null,
   "metadata": {},
   "outputs": [],
   "source": []
  }
 ],
 "metadata": {
  "kernelspec": {
   "display_name": "Python 2",
   "language": "python",
   "name": "python2"
  },
  "language_info": {
   "codemirror_mode": {
    "name": "ipython",
    "version": 2
   },
   "file_extension": ".py",
   "mimetype": "text/x-python",
   "name": "python",
   "nbconvert_exporter": "python",
   "pygments_lexer": "ipython2",
   "version": "2.7.14"
  }
 },
 "nbformat": 4,
 "nbformat_minor": 2
}
